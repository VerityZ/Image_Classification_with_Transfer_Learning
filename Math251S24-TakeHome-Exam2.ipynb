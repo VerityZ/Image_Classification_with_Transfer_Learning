{
  "nbformat": 4,
  "nbformat_minor": 0,
  "metadata": {
    "colab": {
      "provenance": [],
      "gpuType": "T4"
    },
    "kernelspec": {
      "name": "python3",
      "display_name": "Python 3"
    },
    "language_info": {
      "name": "python"
    },
    "accelerator": "GPU"
  },
  "cells": [
    {
      "cell_type": "markdown",
      "source": [
        "# Problem Description\n",
        "\n"
      ],
      "metadata": {
        "id": "HpQYVvYCHsv-"
      }
    },
    {
      "cell_type": "markdown",
      "source": [
        "* This take home exams focuses on solving a multiclassifaction problem using deep learning techniques such as CNN, Data augmentation and transfer learning\n",
        "* We will use the Pest Data on kaggle. You can download the data on kaggle from [Pest Data](https://www.kaggle.com/datasets/simranvolunesia/pest-dataset/data). However is the data is provided as ``PestData.zip`` on the class canvas inside Datasets folder.\n",
        "* Pests are a huge threat! Farmers are hard at work however their productivity is reduced due to pests, so this dataset can be used to identify pests or maybe other use cases involving pest identification."
      ],
      "metadata": {
        "id": "hAP1gURuGav8"
      }
    },
    {
      "cell_type": "markdown",
      "source": [
        "## Rules of the exam"
      ],
      "metadata": {
        "id": "7otWwCEThaI7"
      }
    },
    {
      "cell_type": "markdown",
      "source": [
        "* You shoud only use what we covered in class\n",
        "* Your code should in python and pytorch only\n",
        "* Every not seft explaining line need to be commented with an clair and precise note on what the line does\n",
        "* Note following any rule of these rule may cause partial or full credit deduction depending the severity of the violation"
      ],
      "metadata": {
        "id": "NEyfVt9dhhnN"
      }
    },
    {
      "cell_type": "code",
      "source": [],
      "metadata": {
        "id": "p-3qmpIPhgzO"
      },
      "execution_count": null,
      "outputs": []
    },
    {
      "cell_type": "markdown",
      "source": [
        "# Data Description"
      ],
      "metadata": {
        "id": "rpLdEQlRH4ZN"
      }
    },
    {
      "cell_type": "markdown",
      "source": [
        "* Type of dataset: Image Dataset\n",
        "*  No. of training images: 300 images per pest\n",
        "*  No. of testing images: 50 images per pest\n",
        "* Data Source: Automatic script to scrape images of pest from Google through Selenium and Chrome Driver\n",
        "* Pests: aphids, armyworm, beetle, bollworm, grasshopper, mites, mosquito, sawfly, stem borer"
      ],
      "metadata": {
        "id": "rXzhkA6CH7hm"
      }
    },
    {
      "cell_type": "markdown",
      "source": [
        "# Import Library (5 points)"
      ],
      "metadata": {
        "id": "Na8WxJBjIFly"
      }
    },
    {
      "cell_type": "code",
      "execution_count": null,
      "metadata": {
        "id": "kFEQimReGL2G"
      },
      "outputs": [],
      "source": []
    },
    {
      "cell_type": "markdown",
      "source": [
        "# Set GPU if available (2 points)"
      ],
      "metadata": {
        "id": "Zn-nzEhzIYc1"
      }
    },
    {
      "cell_type": "code",
      "source": [],
      "metadata": {
        "colab": {
          "base_uri": "https://localhost:8080/"
        },
        "id": "kf3gO7MyIdmd",
        "outputId": "d5c46652-c74f-4b55-eb33-b9a016bbee0d"
      },
      "execution_count": null,
      "outputs": [
        {
          "output_type": "execute_result",
          "data": {
            "text/plain": [
              "True"
            ]
          },
          "metadata": {},
          "execution_count": 2
        }
      ]
    },
    {
      "cell_type": "markdown",
      "source": [
        "# Mount your drive with Colab (3 points)"
      ],
      "metadata": {
        "id": "4WwJnyIpKUgk"
      }
    },
    {
      "cell_type": "code",
      "source": [],
      "metadata": {
        "colab": {
          "base_uri": "https://localhost:8080/"
        },
        "id": "sGyzdeBQKmYs",
        "outputId": "02d6d15b-21ff-427c-db8f-062bf06ac3a1"
      },
      "execution_count": null,
      "outputs": [
        {
          "output_type": "stream",
          "name": "stdout",
          "text": [
            "Mounted at /content/drive\n"
          ]
        }
      ]
    },
    {
      "cell_type": "markdown",
      "source": [
        "# Built CNN model from scratch (40 points)\n"
      ],
      "metadata": {
        "id": "Jw3HOsYUKHYb"
      }
    },
    {
      "cell_type": "markdown",
      "source": [
        "The model build here need to get an accuracy of at least 96% on train and an accuracy of least 94% on the test .\n",
        "\n",
        "```\n",
        "# This is formatted as code\n",
        "```\n",
        "\n",
        ""
      ],
      "metadata": {
        "id": "hV_Sw4dkdy25"
      }
    },
    {
      "cell_type": "markdown",
      "source": [
        "## Define Custom DataSet (10 points)"
      ],
      "metadata": {
        "id": "gaEphAfoKQnD"
      }
    },
    {
      "cell_type": "markdown",
      "source": [
        "* this include necessary data transformations like image to tensor, normalization, etc\n",
        "* a costum data set class suitable for this problem"
      ],
      "metadata": {
        "id": "X_QSgrelde7m"
      }
    },
    {
      "cell_type": "code",
      "source": [],
      "metadata": {
        "id": "ysnJF9guLR4b"
      },
      "execution_count": null,
      "outputs": []
    },
    {
      "cell_type": "code",
      "source": [],
      "metadata": {
        "id": "09P8IjR1eUBG"
      },
      "execution_count": null,
      "outputs": []
    },
    {
      "cell_type": "markdown",
      "source": [
        "## Load the train and test data into batch with DataLoaders (5 points)"
      ],
      "metadata": {
        "id": "28FDEKmeTgzs"
      }
    },
    {
      "cell_type": "code",
      "source": [],
      "metadata": {
        "id": "2UfinQvLeZG0"
      },
      "execution_count": null,
      "outputs": []
    },
    {
      "cell_type": "code",
      "source": [],
      "metadata": {
        "id": "DaO4ZlHueZSh"
      },
      "execution_count": null,
      "outputs": []
    },
    {
      "cell_type": "code",
      "source": [],
      "metadata": {
        "id": "A_kiDgzteZsI"
      },
      "execution_count": null,
      "outputs": []
    },
    {
      "cell_type": "markdown",
      "source": [
        "# CNN Model from scratch (15 points)"
      ],
      "metadata": {
        "id": "ZGZD0NSoZkBW"
      }
    },
    {
      "cell_type": "markdown",
      "source": [
        "* define from scratch a CNN model using pytorch sequential API  and compile the model\n",
        "* choose suitable loss function, optimizer\n",
        "* finetune the model parameters: lr, # of epoch, etc\n",
        "* try a model and without data augmentation ( or fine suitable data transformation)"
      ],
      "metadata": {
        "id": "f7O1cl5JeuXA"
      }
    },
    {
      "cell_type": "code",
      "source": [],
      "metadata": {
        "id": "QFZDzyqOemai"
      },
      "execution_count": null,
      "outputs": []
    },
    {
      "cell_type": "code",
      "source": [],
      "metadata": {
        "id": "F3rI-LCfemdB"
      },
      "execution_count": null,
      "outputs": []
    },
    {
      "cell_type": "code",
      "source": [],
      "metadata": {
        "id": "EeJoQhg1emgZ"
      },
      "execution_count": null,
      "outputs": []
    },
    {
      "cell_type": "markdown",
      "source": [
        "## Mondel Training and Validation ( 10 points)"
      ],
      "metadata": {
        "id": "tO1p9Oyyc8-4"
      }
    },
    {
      "cell_type": "markdown",
      "source": [
        "* define the ``train`` and ``valid`` functions\n",
        "* to get the 10 points, your model build need to get an accuracy of at least 96% on train and an accuracy of least 94% on the test .\n"
      ],
      "metadata": {
        "id": "Q_bWxY5QfwOZ"
      }
    },
    {
      "cell_type": "code",
      "source": [],
      "metadata": {
        "id": "4l2UIW3DgJdk"
      },
      "execution_count": null,
      "outputs": []
    },
    {
      "cell_type": "code",
      "source": [],
      "metadata": {
        "id": "XaLEGziDgJgP"
      },
      "execution_count": null,
      "outputs": []
    },
    {
      "cell_type": "code",
      "source": [],
      "metadata": {
        "id": "ZkyBqYx-gJkF"
      },
      "execution_count": null,
      "outputs": []
    },
    {
      "cell_type": "code",
      "source": [
        "epochs = 10\n",
        "\n",
        "for epoch in range(epochs):\n",
        "    print('Epoch: {}'.format(epoch))\n",
        "    train()\n",
        "    validate()"
      ],
      "metadata": {
        "colab": {
          "base_uri": "https://localhost:8080/"
        },
        "id": "Q3EX3EGmY-fZ",
        "outputId": "de749dee-9d19-488b-b984-d4a97d505133"
      },
      "execution_count": null,
      "outputs": [
        {
          "output_type": "stream",
          "name": "stdout",
          "text": [
            "Epoch: 0\n",
            "Train - Loss: 306.2009 Accuracy: 0.2893\n",
            "Valid - Loss: 23.3625 Accuracy: 0.4889\n",
            "Epoch: 1\n",
            "Train - Loss: 117.8350 Accuracy: 0.5167\n",
            "Valid - Loss: 17.5035 Accuracy: 0.6400\n",
            "Epoch: 2\n",
            "Train - Loss: 75.5469 Accuracy: 0.6967\n",
            "Valid - Loss: 11.6055 Accuracy: 0.8089\n",
            "Epoch: 3\n",
            "Train - Loss: 48.0115 Accuracy: 0.8152\n",
            "Valid - Loss: 7.9341 Accuracy: 0.9022\n",
            "Epoch: 4\n",
            "Train - Loss: 26.4359 Accuracy: 0.9078\n",
            "Valid - Loss: 6.1243 Accuracy: 0.9044\n",
            "Epoch: 5\n",
            "Train - Loss: 20.4322 Accuracy: 0.9211\n",
            "Valid - Loss: 5.9209 Accuracy: 0.9400\n",
            "Epoch: 6\n",
            "Train - Loss: 13.3723 Accuracy: 0.9548\n",
            "Valid - Loss: 4.5683 Accuracy: 0.9422\n",
            "Epoch: 7\n",
            "Train - Loss: 11.0093 Accuracy: 0.9585\n",
            "Valid - Loss: 4.3738 Accuracy: 0.9400\n",
            "Epoch: 8\n",
            "Train - Loss: 9.3713 Accuracy: 0.9667\n",
            "Valid - Loss: 5.2222 Accuracy: 0.9333\n",
            "Epoch: 9\n",
            "Train - Loss: 9.9666 Accuracy: 0.9633\n",
            "Valid - Loss: 4.9532 Accuracy: 0.9444\n"
          ]
        }
      ]
    },
    {
      "cell_type": "code",
      "source": [
        "epochs = 10\n",
        "\n",
        "for epoch in range(epochs):\n",
        "    print('Epoch: {}'.format(epoch))\n",
        "    train()\n",
        "    validate()"
      ],
      "metadata": {
        "colab": {
          "base_uri": "https://localhost:8080/"
        },
        "id": "B6IQov3gaNeP",
        "outputId": "bf53e00b-c430-4bbe-8891-47619d315829"
      },
      "execution_count": null,
      "outputs": [
        {
          "output_type": "stream",
          "name": "stdout",
          "text": [
            "Epoch: 0\n",
            "Train - Loss: 7.9271 Accuracy: 0.9715\n",
            "Valid - Loss: 4.4122 Accuracy: 0.9489\n",
            "Epoch: 1\n",
            "Train - Loss: 4.5738 Accuracy: 0.9848\n",
            "Valid - Loss: 4.5942 Accuracy: 0.9489\n",
            "Epoch: 2\n",
            "Train - Loss: 8.4632 Accuracy: 0.9670\n",
            "Valid - Loss: 5.6127 Accuracy: 0.9422\n",
            "Epoch: 3\n",
            "Train - Loss: 7.3924 Accuracy: 0.9722\n",
            "Valid - Loss: 6.1419 Accuracy: 0.9400\n",
            "Epoch: 4\n",
            "Train - Loss: 6.2665 Accuracy: 0.9752\n",
            "Valid - Loss: 4.8827 Accuracy: 0.9444\n",
            "Epoch: 5\n",
            "Train - Loss: 4.8951 Accuracy: 0.9789\n",
            "Valid - Loss: 4.9530 Accuracy: 0.9489\n",
            "Epoch: 6\n",
            "Train - Loss: 6.8485 Accuracy: 0.9741\n",
            "Valid - Loss: 5.5087 Accuracy: 0.9422\n",
            "Epoch: 7\n",
            "Train - Loss: 9.0452 Accuracy: 0.9678\n",
            "Valid - Loss: 5.8016 Accuracy: 0.9400\n",
            "Epoch: 8\n",
            "Train - Loss: 9.9595 Accuracy: 0.9667\n",
            "Valid - Loss: 5.1975 Accuracy: 0.9444\n",
            "Epoch: 9\n",
            "Train - Loss: 8.6592 Accuracy: 0.9685\n",
            "Valid - Loss: 5.5165 Accuracy: 0.9422\n"
          ]
        }
      ]
    },
    {
      "cell_type": "markdown",
      "source": [
        "# Model with transfer learning (40 points)"
      ],
      "metadata": {
        "id": "dmc9sd7g3zDl"
      }
    },
    {
      "cell_type": "markdown",
      "source": [
        "* Use transfer learning to build a model that achieved an accuray of at least 99% on the train and 98% on the test\n",
        "* **Hint:** fellow the method we use in class\n",
        "* On kaggle, the best test accuray I see currenlty is 94%!"
      ],
      "metadata": {
        "id": "ySmK98zLgg3A"
      }
    },
    {
      "cell_type": "code",
      "source": [
        "epochs = 10\n",
        "\n",
        "for epoch in range(epochs):\n",
        "    print('Epoch: {}'.format(epoch))\n",
        "    train()\n",
        "    validate()"
      ],
      "metadata": {
        "colab": {
          "base_uri": "https://localhost:8080/"
        },
        "id": "_gqXlnDh7QbE",
        "outputId": "0cc2ce60-463a-40f1-c290-0fbdf485c38a"
      },
      "execution_count": null,
      "outputs": [
        {
          "output_type": "stream",
          "name": "stdout",
          "text": [
            "Epoch: 0\n",
            "Train - Loss: 37.2392 Accuracy: 0.8485\n",
            "Valid - Loss: 1.9927 Accuracy: 0.9644\n",
            "Epoch: 1\n",
            "Train - Loss: 3.0729 Accuracy: 0.9911\n",
            "Valid - Loss: 2.1887 Accuracy: 0.9733\n",
            "Epoch: 2\n",
            "Train - Loss: 2.3480 Accuracy: 0.9933\n",
            "Valid - Loss: 1.5353 Accuracy: 0.9778\n",
            "Epoch: 3\n",
            "Train - Loss: 1.5045 Accuracy: 0.9948\n",
            "Valid - Loss: 1.6124 Accuracy: 0.9733\n",
            "Epoch: 4\n",
            "Train - Loss: 1.4640 Accuracy: 0.9941\n",
            "Valid - Loss: 1.2072 Accuracy: 0.9822\n",
            "Epoch: 5\n",
            "Train - Loss: 0.6819 Accuracy: 0.9970\n",
            "Valid - Loss: 1.5210 Accuracy: 0.9822\n",
            "Epoch: 6\n",
            "Train - Loss: 0.7312 Accuracy: 0.9970\n",
            "Valid - Loss: 1.3451 Accuracy: 0.9778\n",
            "Epoch: 7\n",
            "Train - Loss: 0.7321 Accuracy: 0.9978\n",
            "Valid - Loss: 1.8634 Accuracy: 0.9822\n",
            "Epoch: 8\n",
            "Train - Loss: 2.0205 Accuracy: 0.9915\n",
            "Valid - Loss: 3.0724 Accuracy: 0.9756\n",
            "Epoch: 9\n",
            "Train - Loss: 4.1904 Accuracy: 0.9826\n",
            "Valid - Loss: 2.1818 Accuracy: 0.9800\n"
          ]
        }
      ]
    },
    {
      "cell_type": "code",
      "source": [],
      "metadata": {
        "id": "3OXgOryRhN9W"
      },
      "execution_count": null,
      "outputs": []
    },
    {
      "cell_type": "code",
      "source": [],
      "metadata": {
        "id": "XFmakDJQhOOA"
      },
      "execution_count": null,
      "outputs": []
    },
    {
      "cell_type": "code",
      "source": [
        "epochs = 2\n",
        "\n",
        "for epoch in range(epochs):\n",
        "    print('Epoch: {}'.format(epoch))\n",
        "    train()\n",
        "    validate()"
      ],
      "metadata": {
        "colab": {
          "base_uri": "https://localhost:8080/"
        },
        "id": "l9HDeUP1bmGm",
        "outputId": "2f66bb5a-1945-4cae-943f-ad50fa68da28"
      },
      "execution_count": null,
      "outputs": [
        {
          "output_type": "stream",
          "name": "stdout",
          "text": [
            "Epoch: 0\n",
            "Train - Loss: 0.8329 Accuracy: 0.9970\n",
            "Valid - Loss: 2.0321 Accuracy: 0.9800\n",
            "Epoch: 1\n",
            "Train - Loss: 0.1621 Accuracy: 0.9996\n",
            "Valid - Loss: 1.9862 Accuracy: 0.9800\n"
          ]
        }
      ]
    },
    {
      "cell_type": "markdown",
      "source": [
        "# Create private a GitHub repository for the exam ( 10 *points*)"
      ],
      "metadata": {
        "id": "RAQn9xMriokT"
      }
    },
    {
      "cell_type": "markdown",
      "source": [
        "* Check GitHub here [GitHub](https://github.com/about)\n",
        "* push(add) the clean code file(.ipyng),\n",
        "* add read.me file that explain the project problem, it importance, the model use to tackle the problem, the result achieved, comparison of your results with best kaggle notebook, ect\n",
        "* invite me to the exam GitHup repository using my email: itahirbachar@gmail.com"
      ],
      "metadata": {
        "id": "t1VfZgl6jh09"
      }
    },
    {
      "cell_type": "code",
      "source": [],
      "metadata": {
        "id": "SEcs3Cyvinoq"
      },
      "execution_count": null,
      "outputs": []
    }
  ]
}